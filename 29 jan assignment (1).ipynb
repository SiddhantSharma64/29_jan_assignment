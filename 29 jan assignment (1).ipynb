{
 "cells": [
  {
   "cell_type": "markdown",
   "id": "f8be1440-0ca8-4eb4-9854-d443150394ac",
   "metadata": {},
   "source": [
    "1) Python was developed by Guido van Rossum."
   ]
  },
  {
   "cell_type": "markdown",
   "id": "845a3996-5134-4ea5-aa86-2e6f89b3e502",
   "metadata": {},
   "source": [
    "2) Python supports object oriented programming."
   ]
  },
  {
   "cell_type": "markdown",
   "id": "7d94fa63-71af-43b0-a0da-0f2a3dd4d15d",
   "metadata": {},
   "source": [
    "3) Yes python is case sensitive when dealing with identifiers."
   ]
  },
  {
   "cell_type": "markdown",
   "id": "3853f215-3487-4323-8987-599314cfe95b",
   "metadata": {},
   "source": [
    "4) .py"
   ]
  },
  {
   "cell_type": "markdown",
   "id": "b377f9dc-dc88-4836-b35f-6dfe3e36b04b",
   "metadata": {},
   "source": [
    "5) Interpreted"
   ]
  },
  {
   "cell_type": "markdown",
   "id": "25f00120-62d9-4093-9220-8f2b8df06211",
   "metadata": {},
   "source": [
    "6) a module, a function body, and a class definition."
   ]
  },
  {
   "cell_type": "code",
   "execution_count": null,
   "id": "8e2da28c-e736-4a44-91c7-64c13e0a7195",
   "metadata": {},
   "outputs": [],
   "source": [
    "7) #"
   ]
  },
  {
   "cell_type": "markdown",
   "id": "9ffd5b2d-b8fb-4b60-b969-596a0f0f6e51",
   "metadata": {},
   "source": [
    "8) sys.version ,\n",
    "   python_version()"
   ]
  },
  {
   "cell_type": "markdown",
   "id": "0ead8203-0e89-4b1c-abe2-f0e31702d6e1",
   "metadata": {},
   "source": [
    "9) lambda"
   ]
  },
  {
   "cell_type": "code",
   "execution_count": 2,
   "id": "4929b1d9-bfb7-43bf-abda-dc6c05fa416c",
   "metadata": {},
   "outputs": [
    {
     "ename": "SyntaxError",
     "evalue": "unmatched ')' (198890189.py, line 1)",
     "output_type": "error",
     "traceback": [
      "\u001b[0;36m  Cell \u001b[0;32mIn[2], line 1\u001b[0;36m\u001b[0m\n\u001b[0;31m    10) pip install python\u001b[0m\n\u001b[0m      ^\u001b[0m\n\u001b[0;31mSyntaxError\u001b[0m\u001b[0;31m:\u001b[0m unmatched ')'\n"
     ]
    }
   ],
   "source": [
    "10) pip install python"
   ]
  },
  {
   "cell_type": "code",
   "execution_count": 3,
   "id": "935d0b02-9286-4243-a0ae-5dba458a06e1",
   "metadata": {},
   "outputs": [
    {
     "ename": "SyntaxError",
     "evalue": "unmatched ')' (917977751.py, line 1)",
     "output_type": "error",
     "traceback": [
      "\u001b[0;36m  Cell \u001b[0;32mIn[3], line 1\u001b[0;36m\u001b[0m\n\u001b[0;31m    11) bin()\u001b[0m\n\u001b[0m      ^\u001b[0m\n\u001b[0;31mSyntaxError\u001b[0m\u001b[0;31m:\u001b[0m unmatched ')'\n"
     ]
    }
   ],
   "source": [
    "11) bin()\n",
    "    bool()\n",
    "    dict()\n",
    "    float()\n",
    "    int()"
   ]
  },
  {
   "cell_type": "code",
   "execution_count": 4,
   "id": "9c236bbc-ede1-4263-84b3-e87f8d0f3fc3",
   "metadata": {},
   "outputs": [
    {
     "ename": "SyntaxError",
     "evalue": "unmatched ')' (3199001656.py, line 1)",
     "output_type": "error",
     "traceback": [
      "\u001b[0;36m  Cell \u001b[0;32mIn[4], line 1\u001b[0;36m\u001b[0m\n\u001b[0;31m    12) 79 characters\u001b[0m\n\u001b[0m      ^\u001b[0m\n\u001b[0;31mSyntaxError\u001b[0m\u001b[0;31m:\u001b[0m unmatched ')'\n"
     ]
    }
   ],
   "source": [
    "12) 79 characters"
   ]
  },
  {
   "cell_type": "code",
   "execution_count": 5,
   "id": "1db5343c-19cf-4bbb-b1dc-fe115ef751c1",
   "metadata": {},
   "outputs": [
    {
     "ename": "SyntaxError",
     "evalue": "unmatched ')' (3579969208.py, line 1)",
     "output_type": "error",
     "traceback": [
      "\u001b[0;36m  Cell \u001b[0;32mIn[5], line 1\u001b[0;36m\u001b[0m\n\u001b[0;31m    13) Easy to Read, Learn and Write\u001b[0m\n\u001b[0m      ^\u001b[0m\n\u001b[0;31mSyntaxError\u001b[0m\u001b[0;31m:\u001b[0m unmatched ')'\n"
     ]
    }
   ],
   "source": [
    "13) Easy to Read, Learn and Write\n",
    "    Interpreted Language\n",
    "    Free and Open-Source\n",
    "    User-Friendly data structures"
   ]
  },
  {
   "cell_type": "code",
   "execution_count": 6,
   "id": "1b7f5b89-72fa-4911-a566-5803f4567357",
   "metadata": {},
   "outputs": [
    {
     "ename": "SyntaxError",
     "evalue": "unmatched ')' (3605349245.py, line 1)",
     "output_type": "error",
     "traceback": [
      "\u001b[0;36m  Cell \u001b[0;32mIn[6], line 1\u001b[0;36m\u001b[0m\n\u001b[0;31m    14) Python uses a portion of the memory for internal use and non-object memory. Another part of the memory is used for Python object such as int, dict, list, etc.\u001b[0m\n\u001b[0m      ^\u001b[0m\n\u001b[0;31mSyntaxError\u001b[0m\u001b[0;31m:\u001b[0m unmatched ')'\n"
     ]
    }
   ],
   "source": [
    "14) Python uses a portion of the memory for internal use and non-object memory. Another part of the memory is used for Python object such as int, dict, list, etc."
   ]
  },
  {
   "cell_type": "markdown",
   "id": "41740db0-85a2-4aaa-adf9-95d4af1ed9ce",
   "metadata": {},
   "source": [
    "15) Install python from this link https://www.python.org/downloads/\n",
    "After this, install it on your PC. Look for the location where PYTHON has been installed on your PC using tge following command on your command prompt: cmd python.\n",
    "The complete path of python.exe can be added by:\n",
    "\n",
    "Right-clicking This PC and going to Properties.\n",
    "\n",
    "Clicking on the Advanced system settings in the menu on the left.\n",
    "\n",
    "Clicking on the Environment Variables button o​n the bottom right.\n",
    "\n",
    "In the System variables section, selecting the Path variable and clicking on Edit. The next screen will show all the directories that are currently a part of the PATH variable.\n",
    "\n",
    "Clicking on New and entering Python’s install directory."
   ]
  },
  {
   "cell_type": "markdown",
   "id": "eb0f8cd9-aa02-49b0-83ee-441a4f2dc34a",
   "metadata": {},
   "source": [
    "16) Yes indentation is required in python."
   ]
  }
 ],
 "metadata": {
  "kernelspec": {
   "display_name": "Python 3 (ipykernel)",
   "language": "python",
   "name": "python3"
  },
  "language_info": {
   "codemirror_mode": {
    "name": "ipython",
    "version": 3
   },
   "file_extension": ".py",
   "mimetype": "text/x-python",
   "name": "python",
   "nbconvert_exporter": "python",
   "pygments_lexer": "ipython3",
   "version": "3.10.8"
  }
 },
 "nbformat": 4,
 "nbformat_minor": 5
}
